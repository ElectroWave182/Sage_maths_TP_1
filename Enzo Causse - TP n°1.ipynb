{
 "cells": [
  {
   "cell_type": "markdown",
   "metadata": {},
   "source": [
    "$\\newcommand{\\ens}[1]{\\left\\{ {#1} \\right\\}}$"
   ]
  },
  {
   "cell_type": "markdown",
   "metadata": {},
   "source": [
    "# TP n°1 : Présentation de Sage\n",
    "\n",
    "(Version du janvier 2021)\n",
    "\n",
    "Sage, ou plus précisément SageMath, est un logiciel de mathématiques créé en 1995 par William Stein : il permet de faire du calcul formel, du calcul numérique et du traitement informatique (calcul, visualisation), en particulier sur des objets mathématiques. Il est utilisé dans l'enseignement supérieur et, dans certaines recherches mathématiques. L'utilisateur peut programmer en SageMath avec le language Python.\n",
    "\n",
    "Nous utilisons SageMath en version au moins 9 et qui fonctionne avec Python 3 (pas le cas des versions antérieures).\n",
    "\n",
    "Sage peut être utilisé dans deux environnements :\n",
    "\n",
    "- en mode Desktop (il a été installé sur le disque dur d'un ordinateur)\n",
    "\n",
    "- à distance sur le site SageMathCloud.\n",
    "\n",
    "Dans tous les cas, Sage dispose d'une interface Web, appelé le Notebook. Le Notebook permet à l'utilisateur de travailler avec Sage à travers des feuilles de travail (worksheets). Le Notebook permet de gérer ces feuilles : les sauvegarder à distance ou sur disque, les modifier, les supprimer, etc.\n",
    "\n",
    "# Exécution du code et cellules\n",
    "\n",
    "Pour que le code d'une cellule soit enregistré, il faut que la cellule ait été validé, autrement dit que le code ait été exécuté, le raccourci étant la combinaison de touches `MAJ + ENTRÉE`.\n",
    "\n",
    "Les cellules de toute feuille SageMath de type Notebook communiquent entre elles dans le sens où toute variable ou toute fonction définie dans une cellule validée est accessible dans n'importe quelle cellule utilisée postérieurement. Par exemple\n",
    "\n",
    "soit la cellule contenant\n",
    "\n"
   ]
  },
  {
   "cell_type": "code",
   "execution_count": 1,
   "metadata": {},
   "outputs": [
    {
     "name": "stdout",
     "output_type": "stream",
     "text": [
      "420\n"
     ]
    }
   ],
   "source": [
    "a = 42\n",
    "print( a * 10)\n"
   ]
  },
  {
   "cell_type": "markdown",
   "metadata": {},
   "source": [
    "qui validée affiche\n",
    "\n"
   ]
  },
  {
   "cell_type": "code",
   "execution_count": null,
   "metadata": {},
   "outputs": [],
   "source": [
    "420\n"
   ]
  },
  {
   "cell_type": "markdown",
   "metadata": {},
   "source": [
    "suivie de la cellule\n",
    "\n"
   ]
  },
  {
   "cell_type": "code",
   "execution_count": 2,
   "metadata": {},
   "outputs": [
    {
     "name": "stdout",
     "output_type": "stream",
     "text": [
      "4200\n"
     ]
    }
   ],
   "source": [
    "print( a * 100)\n"
   ]
  },
  {
   "cell_type": "markdown",
   "metadata": {},
   "source": [
    "Cette cellule reconnaît la variable `a` et affiche :\n",
    "\n"
   ]
  },
  {
   "cell_type": "code",
   "execution_count": null,
   "metadata": {},
   "outputs": [],
   "source": [
    "4200\n"
   ]
  },
  {
   "cell_type": "markdown",
   "metadata": {},
   "source": [
    "On pourrait même ensuite effacer le contenu de la première cellule, cela n'empêchera pas que `a` soit reconnu dans tout autre cellule qui utiliserait la variable `a` : essayez pour en prendre bien conscience.\n",
    "\n",
    "# Réinitialiser une feuille de travail\n",
    "\n",
    "Pour réinitialiser le contenu d'une feuille avec la conséquence que tout ce qui était en mémoire sera perdu, cliquer sur le menu déroulant *Kernel > Restart*. Cette action  n'efface pas le code. Elle est parfois nécessaire quand des erreurs incompréhensibles se produisent mais il faut alors ré-exécuter son code.\n",
    "\n",
    "# L'aide en ligne\n",
    "\n",
    "Si on connaît le nom d'un objet Sage, et qu'on cherche de l'aide sur cet objet, il suffit de taper dans une cellule le nom de l'objet suivi d'un point d'interrogation.\n",
    "\n",
    "Par exemple, si on cherche de l'aide sur la fonction appelée `srange`, on tape\n",
    "\n"
   ]
  },
  {
   "cell_type": "code",
   "execution_count": 3,
   "metadata": {},
   "outputs": [
    {
     "name": "stderr",
     "output_type": "stream",
     "text": [
      "/opt/sagemath-9.2/local/lib/python3.7/site-packages/docutils/writers/latex2e/__init__.py:2978: DeprecationWarning: invalid escape sequence \\l\n",
      "  self.out.append('}] \\leavevmode ')\n"
     ]
    }
   ],
   "source": [
    "srange?\n"
   ]
  },
  {
   "cell_type": "markdown",
   "metadata": {},
   "source": [
    "et après validation, une aide substantielle et agréable à lire est proposée, non reproduite ici. Toutefois l'aide est exclusivement en anglais.\n",
    "\n",
    "L'aide contient une description syntaxique, une description générale, une description détaillée et un jeu d'exemple.\n",
    "\n",
    "L'aide en ligne est en fait une *docstring* Python : elle provient directement du code-source où elle est incorporée par celui qui a programmé l'objet dont l'aide était demandée.\n",
    "\n",
    "Ne pas taper d'espace entre le mot et le point d'interrogation, donc ceci est incorrect :\n",
    "\n"
   ]
  },
  {
   "cell_type": "code",
   "execution_count": null,
   "metadata": {},
   "outputs": [],
   "source": [
    "srange ?\n"
   ]
  },
  {
   "cell_type": "markdown",
   "metadata": {},
   "source": [
    "L'inconvénient de l'aide est qu'il faut disposer d'un mot-clé valide.\n",
    "\n",
    "Sage possède une documentation décente et volumineuse sur son site [SageMath documentation](http://www.sagemath.org/help.html#SageStandardDoc) mais très dispersée et mal hiérarchisée.\n",
    "\n",
    "Le plus simple et le plus efficace est d'utiliser Google avec au moins le mot-clé `sagemath`.\n",
    "\n",
    "# Utiliser les exemples de l'aide en ligne\n",
    "\n",
    "Vous devez avoir sous les yeux l'aide en ligne de `srange` pour bien comprendre ce qui suit. On peut copier et coller tel quel dans une cellule de code les exemples de l'aide en ligne malgré le «prompt» Sage qui a la forme ci-dessous :\n",
    "\n",
    "`sage :`\n",
    "\n",
    "et qui précède les exemples dans l'aide. Ainsi, extrait de l'aide en ligne de `srange` et copié-collé dans une cellule :\n",
    "\n"
   ]
  },
  {
   "cell_type": "code",
   "execution_count": 4,
   "metadata": {},
   "outputs": [
    {
     "data": {
      "text/plain": [
       "[1.0, 2.0, 3.0, 4.0, 5.0, 6.0, 7.0, 8.0, 9.0]"
      ]
     },
     "execution_count": 4,
     "metadata": {},
     "output_type": "execute_result"
    }
   ],
   "source": [
    "sage: srange(1, 10, universe=RDF)\n"
   ]
  },
  {
   "cell_type": "code",
   "execution_count": null,
   "metadata": {},
   "outputs": [],
   "source": [
    "[1.0, 2.0, 3.0, 4.0, 5.0, 6.0, 7.0, 8.0, 9.0]\n"
   ]
  },
  {
   "cell_type": "markdown",
   "metadata": {},
   "source": [
    "Si on copie une **succession** d'exemples, il faudra remanier le code pour supprimer la copie des sorties si elles sont proposées dans l'aide en ligne et ajouter des `print` pour rendre visibles les résultats. Par exemple, toujours dans l'aide de `srange`, on trouve :\n",
    "\n",
    "    sage: v = srange(5); v\n",
    "    [0, 1, 2, 3, 4]\n",
    "    sage: type(v[2])\n",
    "    <type 'sage.rings.integer.Integer'>\n",
    "    sage: srange(1, 10)\n",
    "    [1, 2, 3, 4, 5, 6, 7, 8, 9]\n",
    "    sage: srange(10, 1, -1)\n",
    "    [10, 9, 8, 7, 6, 5, 4, 3, 2]\n",
    "    sage: srange(10,1,-1, include_endpoint=True)\n",
    "    [10, 9, 8, 7, 6, 5, 4, 3, 2, 1]"
   ]
  },
  {
   "cell_type": "markdown",
   "metadata": {},
   "source": [
    "Il faut alors modifier manuellement en\n",
    "\n",
    "    sage: v = srange(5); print v\n",
    "    sage: print (type(v[2]))\n",
    "    sage: print (srange(1, 10))\n",
    "    sage: print (srange(10, 1, -1))\n",
    "    sage: print (srange(10,1,-1, include_endpoint=True))"
   ]
  },
  {
   "cell_type": "markdown",
   "metadata": {},
   "source": [
    "ce qui affichera\n",
    "\n",
    "    [0, 1, 2, 3, 4]\n",
    "    <type 'sage.rings.integer.Integer'>\n",
    "    [1, 2, 3, 4, 5, 6, 7, 8, 9]\n",
    "    [10, 9, 8, 7, 6, 5, 4, 3, 2]\n",
    "    [10, 9, 8, 7, 6, 5, 4, 3, 2, 1]"
   ]
  },
  {
   "cell_type": "markdown",
   "metadata": {},
   "source": [
    "# Afficher avec une instruction `print`\n",
    "\n",
    "Comme sous Python 3 :\n",
    "\n"
   ]
  },
  {
   "cell_type": "code",
   "execution_count": 5,
   "metadata": {},
   "outputs": [
    {
     "name": "stdout",
     "output_type": "stream",
     "text": [
      "42\n",
      "42....81....12....31\n"
     ]
    }
   ],
   "source": [
    "print(42)\n",
    "print( 42, 81, 12, 31, sep='....')\n"
   ]
  },
  {
   "cell_type": "code",
   "execution_count": null,
   "metadata": {},
   "outputs": [],
   "source": [
    "# faire un restart de la feuille (menu Kernel)"
   ]
  },
  {
   "cell_type": "markdown",
   "metadata": {},
   "source": [
    "\n",
    "\n",
    "# Les deux formes d'affichage\n",
    "\n",
    "Comme en Python, pour afficher un objet `Z`, on utilise l'instruction `print Z`. La sortie produit un affichage en mode texte, par exemple :\n",
    "\n"
   ]
  },
  {
   "cell_type": "code",
   "execution_count": 6,
   "metadata": {},
   "outputs": [
    {
     "name": "stdout",
     "output_type": "stream",
     "text": [
      "x^3 + x^2 + 1/3\n"
     ]
    }
   ],
   "source": [
    "print (x**3 + x^2 + 1/3)\n"
   ]
  },
  {
   "cell_type": "markdown",
   "metadata": {},
   "source": [
    "Toutefois, comme le format Notebook supporte un format riche, utiliser la fonction `show` permet d'avoir un meilleur rendu, la plupart du temps, ce dernier est obtenu à partir du langage Latex. Par exemple :\n",
    "\n"
   ]
  },
  {
   "cell_type": "code",
   "execution_count": 7,
   "metadata": {},
   "outputs": [
    {
     "data": {
      "text/html": [
       "<html><script type=\"math/tex; mode=display\">\\newcommand{\\Bold}[1]{\\mathbf{#1}}x^{3} + x^{2} + \\frac{1}{3}</script></html>"
      ],
      "text/latex": [
       "\\begin{math}\n",
       "\\newcommand{\\Bold}[1]{\\mathbf{#1}}x^{3} + x^{2} + \\frac{1}{3}\n",
       "\\end{math}"
      ],
      "text/plain": [
       "x^3 + x^2 + 1/3"
      ]
     },
     "metadata": {},
     "output_type": "display_data"
    }
   ],
   "source": [
    "show(x**3 + x^2 + 1/3)\n"
   ]
  },
  {
   "cell_type": "markdown",
   "metadata": {},
   "source": [
    "L'inconvénient est que la sortie ne peut pas être récupérée en mode texte (dans l'idée d'effectuer un copier-coller ultérieur).\n",
    "\n",
    "# Affichage implicite\n",
    "\n",
    "Si un objet est représenté par une expression et que cette expression figure **en dernier** dans une cellule, la valeur de l'expression est affichée :\n",
    "\n"
   ]
  },
  {
   "cell_type": "code",
   "execution_count": 8,
   "metadata": {},
   "outputs": [
    {
     "data": {
      "text/plain": [
       "2042"
      ]
     },
     "execution_count": 8,
     "metadata": {},
     "output_type": "execute_result"
    }
   ],
   "source": [
    "z=42\n",
    "10 * z\n",
    "2000 + z\n"
   ]
  },
  {
   "cell_type": "markdown",
   "metadata": {},
   "source": [
    "ce qui affichera uniquement\n",
    "\n"
   ]
  },
  {
   "cell_type": "code",
   "execution_count": null,
   "metadata": {},
   "outputs": [],
   "source": [
    "2042\n"
   ]
  },
  {
   "cell_type": "markdown",
   "metadata": {},
   "source": [
    "On remarquera que l'objet en 2e ligne n'est pas affiché.\n",
    "\n",
    "Pour forcer un affichage, utiliser l'instruction `print` :\n",
    "\n"
   ]
  },
  {
   "cell_type": "code",
   "execution_count": 9,
   "metadata": {},
   "outputs": [
    {
     "name": "stdout",
     "output_type": "stream",
     "text": [
      "420\n"
     ]
    },
    {
     "data": {
      "text/plain": [
       "2042"
      ]
     },
     "execution_count": 9,
     "metadata": {},
     "output_type": "execute_result"
    }
   ],
   "source": [
    "z=42\n",
    "print (10 * z)\n",
    "2000 + z\n"
   ]
  },
  {
   "cell_type": "code",
   "execution_count": null,
   "metadata": {},
   "outputs": [],
   "source": [
    "420\n",
    "2042\n"
   ]
  },
  {
   "cell_type": "markdown",
   "metadata": {},
   "source": [
    "# Différence entre SageMath et Python\n",
    "\n",
    "L'utilisateur de SageMath code en Python 3. Toutefois, le code SageMath entré par l'utilisateur est traité par un préprocesseur (c'est invisible pour l'utilisateur) afin de prendre en compte quelques différences entre Python et SageMath.\n",
    "\n",
    "Une différence importante concerne les fractions. En Python 2, la fraction `42/10` a pour valeur 4 car `/` est l'opérateur de quotient entier. En SageMath,  la fraction `42/10` sera vue comme une expression formelle et sera simplifiée en `21/5`. L'intérêt est que l'on peut faire des opérations avec des fractions :\n",
    "\n"
   ]
  },
  {
   "cell_type": "code",
   "execution_count": 10,
   "metadata": {},
   "outputs": [
    {
     "name": "stdout",
     "output_type": "stream",
     "text": [
      "21/5\n",
      "56/15\n"
     ]
    }
   ],
   "source": [
    "print(42/10)\n",
    "print(42/10-7/15)\n"
   ]
  },
  {
   "cell_type": "markdown",
   "metadata": {},
   "source": [
    "# Opérations arithmétiques élémentaires\n",
    "\n",
    "C'est comme en Python sauf pour l'opérateur de division\n",
    "\n"
   ]
  },
  {
   "cell_type": "code",
   "execution_count": 11,
   "metadata": {},
   "outputs": [
    {
     "name": "stdout",
     "output_type": "stream",
     "text": [
      "5 1 6 9 3/2\n"
     ]
    }
   ],
   "source": [
    "print( 3+2, 3-2, 3*2, 3**2, 3/2)\n"
   ]
  },
  {
   "cell_type": "markdown",
   "metadata": {},
   "source": [
    "L'opérateur de division génère une fraction et non pas un quotient exact.\n",
    "\n",
    "Pour l'opérateur *puissance*, outre l'opérateur `**`, on peut aussi utiliser la notation `^` qui est traditionnelle en mathématiques :\n",
    "\n"
   ]
  },
  {
   "cell_type": "code",
   "execution_count": 12,
   "metadata": {},
   "outputs": [
    {
     "name": "stdout",
     "output_type": "stream",
     "text": [
      "1000\n"
     ]
    }
   ],
   "source": [
    "print( 10^3)\n"
   ]
  },
  {
   "cell_type": "markdown",
   "metadata": {},
   "source": [
    "Lorsqu'on veut effectuer une comparaison de valeur (et non pas une comparaison symbolique comme comparer `x + x` et `2x`), on utilise le même opérateur `==` qu'en Python :\n",
    "\n"
   ]
  },
  {
   "cell_type": "code",
   "execution_count": 13,
   "metadata": {},
   "outputs": [
    {
     "name": "stdout",
     "output_type": "stream",
     "text": [
      "True\n"
     ]
    }
   ],
   "source": [
    "z = 10\n",
    "print (z**6 == (z**3)**2)\n"
   ]
  },
  {
   "cell_type": "markdown",
   "metadata": {},
   "source": [
    "ou encore\n",
    "\n"
   ]
  },
  {
   "cell_type": "code",
   "execution_count": 14,
   "metadata": {},
   "outputs": [
    {
     "name": "stdout",
     "output_type": "stream",
     "text": [
      "True\n"
     ]
    }
   ],
   "source": [
    "print(1+1/2 == 1.5)\n"
   ]
  },
  {
   "cell_type": "markdown",
   "metadata": {},
   "source": [
    "# Puissance, fractions\n",
    "\n",
    "La notation `a/b` représente une *fraction* est non pas, comme c'est le cas en Python, la valeur de la division flottante de `a` par `b` :\n",
    "\n"
   ]
  },
  {
   "cell_type": "code",
   "execution_count": 15,
   "metadata": {},
   "outputs": [
    {
     "name": "stdout",
     "output_type": "stream",
     "text": [
      "6/7\n",
      "2/3 3\n",
      "4/3\n"
     ]
    }
   ],
   "source": [
    "print( 6/7)\n",
    "x = 8/12\n",
    "y = 12/4\n",
    "print( x, y)\n",
    "print( 3/4+7/12)\n"
   ]
  },
  {
   "cell_type": "markdown",
   "metadata": {},
   "source": [
    "On constate que SageMath converse le format fractionnaire, simplifie les fractions (éventuellement en un entier) et effectue des opérations sur des fractions.\n",
    "\n",
    "D'ailleurs, ici `a` et `b` peuvent référencer d'autres objets que des nombres (des expressions symboliques ou des polynômes par exemple).\n",
    "\n"
   ]
  },
  {
   "cell_type": "code",
   "execution_count": 17,
   "metadata": {},
   "outputs": [
    {
     "name": "stdout",
     "output_type": "stream",
     "text": [
      "9/10\n",
      "2/5*cos(4/9)\n"
     ]
    }
   ],
   "source": [
    "print( 1/x-1/(x+1))\n",
    "print((x*cos(x^2))/(x+1))\n"
   ]
  },
  {
   "cell_type": "markdown",
   "metadata": {},
   "source": [
    "La racine carrée est appelée via la fonction `sqrt` :\n",
    "\n"
   ]
  },
  {
   "cell_type": "code",
   "execution_count": 21,
   "metadata": {},
   "outputs": [
    {
     "name": "stdout",
     "output_type": "stream",
     "text": [
      "3.4641016151377544\n",
      "0.8865028261528263\n"
     ]
    }
   ],
   "source": [
    "print(sqrt(12))\n",
    "print(sqrt(cos(x)))\n"
   ]
  },
  {
   "cell_type": "markdown",
   "metadata": {},
   "source": [
    "Racines cubiques :\n",
    "\n"
   ]
  },
  {
   "cell_type": "code",
   "execution_count": 20,
   "metadata": {},
   "outputs": [
    {
     "name": "stdout",
     "output_type": "stream",
     "text": [
      "sqrt(2) : 1.4142135623730951\n",
      "racine cubique : 2^(1/3) = 1.25992104989487\n"
     ]
    }
   ],
   "source": [
    "print(\"sqrt(2) :\",sqrt(2))\n",
    "print(\"racine cubique :\", 2^(1/3), '=', 2.^(1/3))\n"
   ]
  },
  {
   "cell_type": "markdown",
   "metadata": {},
   "source": [
    "# La factorielle, le coefficient binomial\n",
    "\n",
    "La factorielle est définie avec la fonction `factorial` et le coefficient binomial ${n \\choose k}$ par `binomial(n, k)` :\n",
    "\n"
   ]
  },
  {
   "cell_type": "code",
   "execution_count": 22,
   "metadata": {},
   "outputs": [
    {
     "name": "stdout",
     "output_type": "stream",
     "text": [
      "3628800\n",
      "1471442973\n"
     ]
    }
   ],
   "source": [
    "print( factorial(10))\n",
    "print(binomial(42,10))\n"
   ]
  },
  {
   "cell_type": "markdown",
   "metadata": {},
   "source": [
    "# Les entiers sous Sage et sous Python\n",
    "\n",
    "Les constantes littérales entières ne sont pas exactement les mêmes que celles du langage Python. En Python, elles sont de type `int`, tandis que, sinon, elles sont d'un type propre à Sage :\n",
    "\n"
   ]
  },
  {
   "cell_type": "code",
   "execution_count": 28,
   "metadata": {},
   "outputs": [
    {
     "name": "stdout",
     "output_type": "stream",
     "text": [
      "<class 'sage.rings.integer.Integer'>\n"
     ]
    }
   ],
   "source": [
    "z = 42\n",
    "print( type(z))\n"
   ]
  },
  {
   "cell_type": "markdown",
   "metadata": {},
   "source": [
    "Cela signifie aussi que les entiers de Sage possèdent des attributs ou des méthodes qui n'existent pas en Python, par exemple :\n",
    "\n"
   ]
  },
  {
   "cell_type": "code",
   "execution_count": 27,
   "metadata": {},
   "outputs": [
    {
     "data": {
      "text/plain": [
       "[2, 4]"
      ]
     },
     "execution_count": 27,
     "metadata": {},
     "output_type": "execute_result"
    }
   ],
   "source": [
    "42.digits()\n"
   ]
  },
  {
   "cell_type": "markdown",
   "metadata": {},
   "source": [
    "# Les fonctions parties entières, valeur absolue, signe\n",
    "\n",
    "La partie entière inférieure (à savoir la partie entière usuelle) est une fonction notée `floor` (*plancher*).\n",
    "\n",
    "La partie entière supérieure est une fonction notée `ceil` (*plafond*). L'entier `ceil(x)` est le plus petit entier supérieur ou égal à `x`.\n",
    "\n"
   ]
  },
  {
   "cell_type": "code",
   "execution_count": 29,
   "metadata": {},
   "outputs": [
    {
     "name": "stdout",
     "output_type": "stream",
     "text": [
      "42\n",
      "43\n"
     ]
    }
   ],
   "source": [
    "print(floor(42.999999))\n",
    "print(ceil(42.999999))\n"
   ]
  },
  {
   "cell_type": "code",
   "execution_count": 30,
   "metadata": {},
   "outputs": [
    {
     "name": "stdout",
     "output_type": "stream",
     "text": [
      "-1\n",
      "42\n"
     ]
    }
   ],
   "source": [
    "print( sign(10**3 - 2**10))\n",
    "print(abs(-42))\n"
   ]
  },
  {
   "cell_type": "markdown",
   "metadata": {},
   "source": [
    "sgn et sign sont synonymes.\n",
    "\n",
    "# Les fonctions et constantes mathématiques transcendantes\n",
    "\n",
    "Les constantes classiques $\\pi$ et $e$ sont disponibles telles quelles :\n",
    "\n"
   ]
  },
  {
   "cell_type": "code",
   "execution_count": 31,
   "metadata": {},
   "outputs": [
    {
     "name": "stdout",
     "output_type": "stream",
     "text": [
      "3.14159265358979 2.71828182845905\n"
     ]
    }
   ],
   "source": [
    "print( RR(pi), RR(e))\n"
   ]
  },
  {
   "cell_type": "markdown",
   "metadata": {},
   "source": [
    "On peut utiliser de façon usuelle les fonctions suivantes : sin, cos, tan, exp, ln.\n",
    "\n"
   ]
  },
  {
   "cell_type": "code",
   "execution_count": 32,
   "metadata": {},
   "outputs": [
    {
     "name": "stdout",
     "output_type": "stream",
     "text": [
      "1/2*sqrt(3)\n",
      "10\n"
     ]
    }
   ],
   "source": [
    "print( cos(pi/6))\n",
    "print(ln(e^10))\n"
   ]
  },
  {
   "cell_type": "markdown",
   "metadata": {},
   "source": [
    "Les fonctions circulaires réciproques s'utilisent par arccos, arcsin, arctan :\n",
    "\n"
   ]
  },
  {
   "cell_type": "code",
   "execution_count": 33,
   "metadata": {},
   "outputs": [
    {
     "name": "stdout",
     "output_type": "stream",
     "text": [
      "1/3*pi\n",
      "1/4*pi\n"
     ]
    }
   ],
   "source": [
    "print(arccos(1/2))\n",
    "print(arctan(1))\n"
   ]
  },
  {
   "cell_type": "markdown",
   "metadata": {},
   "source": [
    "Les fonctions hyperboliques sont sinh, cosh et tanh et leur réciproques par arccosh, arcsinh, arctanh :\n",
    "\n"
   ]
  },
  {
   "cell_type": "code",
   "execution_count": 34,
   "metadata": {},
   "outputs": [
    {
     "name": "stdout",
     "output_type": "stream",
     "text": [
      "1\n",
      "0\n"
     ]
    }
   ],
   "source": [
    "print(cosh(0))\n",
    "print(arccosh(1))\n"
   ]
  },
  {
   "cell_type": "markdown",
   "metadata": {},
   "source": [
    "# Quotient et reste entre entiers\n",
    "\n",
    "Le reste pour des nombres entiers s'obtient comme en Python. Pour le quotient entier, utiliser l'opérateur `//`:\n",
    "\n"
   ]
  },
  {
   "cell_type": "code",
   "execution_count": 35,
   "metadata": {},
   "outputs": [
    {
     "name": "stdout",
     "output_type": "stream",
     "text": [
      "42\n",
      "1\n"
     ]
    }
   ],
   "source": [
    "print(421//10)\n",
    "print(421%10)\n"
   ]
  },
  {
   "cell_type": "markdown",
   "metadata": {},
   "source": [
    "# Fonction `sum`\n",
    "\n",
    "Les calculs de sommes étant très fréquents, Sage propose une fonction `sum` (Python aussi d'ailleurs). Elle permet de faire des sommes d'itérables (de listes par exemple) sur des éléments de toute nature (des entiers des flottants, des expressions symbolique, des matrices, etc) :\n",
    "\n"
   ]
  },
  {
   "cell_type": "code",
   "execution_count": 36,
   "metadata": {},
   "outputs": [
    {
     "name": "stdout",
     "output_type": "stream",
     "text": [
      "7058\n",
      "13\n"
     ]
    }
   ],
   "source": [
    "print(sum([2020, 2038, 3000]))\n",
    "\n",
    "P(x)=sum([1, x, x^2])\n",
    "print(P(3))\n"
   ]
  },
  {
   "cell_type": "markdown",
   "metadata": {},
   "source": [
    "# Fonction `prod`\n",
    "\n",
    "La fonction `prod` permet d'évaluer des produits d'éléments d'un itérable formé d'objets quelconques :\n",
    "\n"
   ]
  },
  {
   "cell_type": "code",
   "execution_count": 37,
   "metadata": {},
   "outputs": [
    {
     "name": "stdout",
     "output_type": "stream",
     "text": [
      "10500\n",
      "(x + 1)*(x - 1)*x^2\n"
     ]
    }
   ],
   "source": [
    "L=[10, 42, 25]\n",
    "print( prod(L))\n",
    "\n",
    "L=[x, (x-1), (x+1), x]\n",
    "print(prod(L))\n"
   ]
  },
  {
   "cell_type": "markdown",
   "metadata": {},
   "source": [
    "# Evaluation flottante réelle\n",
    "\n",
    "Pour évaluer une expression numérique réelle sous forme de nombre flottant (de type assimilé au flottant dit *double précision*, codé sur 64 bits), on utilise le constructeur `RR` :\n",
    "\n"
   ]
  },
  {
   "cell_type": "code",
   "execution_count": 26,
   "metadata": {},
   "outputs": [
    {
     "name": "stdout",
     "output_type": "stream",
     "text": [
      "14.1421356237310\n"
     ]
    }
   ],
   "source": [
    "print(RR(10*sqrt(2)))\n"
   ]
  },
  {
   "cell_type": "markdown",
   "metadata": {},
   "source": [
    "Parfois, si l'expression contient une constante littérale flottante (écrite avec un point décimal) celui peut entraîner une évaluation flottante :\n",
    "\n"
   ]
  },
  {
   "cell_type": "code",
   "execution_count": 38,
   "metadata": {},
   "outputs": [
    {
     "name": "stdout",
     "output_type": "stream",
     "text": [
      "4.20000000000000\n"
     ]
    }
   ],
   "source": [
    "print( 42/10.)\n"
   ]
  },
  {
   "cell_type": "markdown",
   "metadata": {},
   "source": [
    "mais cela ne suffit pas toujours :\n",
    "\n"
   ]
  },
  {
   "cell_type": "code",
   "execution_count": 25,
   "metadata": {},
   "outputs": [
    {
     "name": "stdout",
     "output_type": "stream",
     "text": [
      "0.141421356237310\n"
     ]
    }
   ],
   "source": [
    "print(sqrt(2)/10.)\n"
   ]
  },
  {
   "cell_type": "markdown",
   "metadata": {},
   "source": [
    "En Python, on utilise couramment le type `float` pour faire ce type de conversion qui la plupart du temps fonctionne aussi sous Sage\n",
    "\n"
   ]
  },
  {
   "cell_type": "code",
   "execution_count": 24,
   "metadata": {},
   "outputs": [
    {
     "name": "stdout",
     "output_type": "stream",
     "text": [
      "14.142135623730951\n"
     ]
    }
   ],
   "source": [
    "print(float(10*sqrt(2)))\n"
   ]
  },
  {
   "cell_type": "markdown",
   "metadata": {},
   "source": [
    "mais, on préfèrera la conversion avec `RR` car le flottant obtenu sera d'un type propre à Sage.\n",
    "\n",
    "# Approximation numérique\n",
    "\n",
    "On peut obtenir une approximation numérique d'une expression flottante à une précision voulue en utilisant la fonction `numerical_approx` et en précisant le nombre de décimales :\n",
    "\n"
   ]
  },
  {
   "cell_type": "code",
   "execution_count": 39,
   "metadata": {},
   "outputs": [
    {
     "name": "stdout",
     "output_type": "stream",
     "text": [
      "0.68153491441822353230193416340481235267679110860350\n"
     ]
    }
   ],
   "source": [
    "print(numerical_approx(e^pi - pi^e, digits=50))\n"
   ]
  },
  {
   "cell_type": "markdown",
   "metadata": {},
   "source": [
    "# Exercice : Comparer $e^\\pi$ et $\\pi^e$\n",
    "\n",
    "Comparer $e^π$ et $π^e$ en utilisant la fonction `sign` (rechercher le signe de la différence).\n",
    "\n"
   ]
  },
  {
   "cell_type": "code",
   "execution_count": 40,
   "metadata": {},
   "outputs": [
    {
     "name": "stdout",
     "output_type": "stream",
     "text": [
      "1\n"
     ]
    }
   ],
   "source": [
    "print(sign(e^pi - pi^e))\n"
   ]
  },
  {
   "cell_type": "markdown",
   "metadata": {},
   "source": [
    "#  Exercice : Comparaison d'une puissance et d'une exponentielle\n",
    "\n",
    "On cherche le plus petit entier $n>0$ à partir duquel on a $\\sqrt{2^n} - \\sqrt{\\left(\\frac{3}{2}\\right)^{n}}>n^3$.\n",
    "\n",
    "1) Tester sur les 50 premiers entiers naturels et observer. \n",
    "\n",
    "2) Utiliser une boucle `while` pour trouver cet entier. \n",
    "\n",
    "3) Tracer deux graphes et observer les points d'intersection.\n",
    "\n",
    "Solution\n",
    "\n"
   ]
  },
  {
   "cell_type": "code",
   "execution_count": 45,
   "metadata": {},
   "outputs": [
    {
     "name": "stdout",
     "output_type": "stream",
     "text": [
      "30 31 32 33 34 35 36 37 38 39 40 41 42 43 44 45 46 47 48 49 50 \n",
      "30\n"
     ]
    }
   ],
   "source": [
    "# 1)\n",
    "def compare1():\n",
    "    for n in range(1, 51):\n",
    "        if sqrt(2^n) - sqrt((3/2)^n) > n^3:\n",
    "            print(n, end = \" \")\n",
    "compare1()\n",
    "\n",
    "# 2)\n",
    "def compare2():\n",
    "    n = 1\n",
    "    while True:\n",
    "        if sqrt(2^n) - sqrt((3/2)^n) > n^3:\n",
    "            return n\n",
    "        n += 1\n",
    "print()\n",
    "print(compare2())\n",
    "\n",
    "# 3)\n"
   ]
  },
  {
   "cell_type": "markdown",
   "metadata": {},
   "source": [
    "# Sage et le calcul formel\n",
    "\n",
    "Sage permet de faire du calcul formel (par opposition à du calcul numérique). Ainsi, Sage est capable de\n",
    "\n",
    "- résoudre des équations,\n",
    "\n",
    "- de simplifier des expressions algébriques,\n",
    "\n",
    "- de développer ou de factoriser des polynômes,\n",
    "\n",
    "- de dériver formellement ou de calculer des primitives.\n",
    "\n",
    "De nombreuses fonctionnalités de calcul formel disponsibles sont en fait fournies par le logiciel Maxima qui est nativement incorporé à SageMath. Il est également possible de faire appel, depuis Sage, au logiciel Sympy pour effectuer du calcul formel.\n",
    "\n",
    "Attention, ces questions sont assez difficiles et il n'est pas rare que SageMath renvoie des résultats non satisfaisants.\n",
    "\n",
    "# Variables, expressions symboliques\n",
    "\n",
    "Pour effectuer du calcul formel sous Sage, une variable **symbolique** nommée `x` est disponible par défaut :\n",
    "\n"
   ]
  },
  {
   "cell_type": "code",
   "execution_count": 46,
   "metadata": {},
   "outputs": [
    {
     "name": "stdout",
     "output_type": "stream",
     "text": [
      "2*x\n"
     ]
    }
   ],
   "source": [
    "print(x+x)\n"
   ]
  },
  {
   "cell_type": "markdown",
   "metadata": {},
   "source": [
    "Pour utiliser d'autres variables formelles que `x`, il **faut** les déclarer sous forme de chaînes de caractères :\n",
    "\n"
   ]
  },
  {
   "cell_type": "code",
   "execution_count": 47,
   "metadata": {},
   "outputs": [
    {
     "name": "stdout",
     "output_type": "stream",
     "text": [
      "<class 'sage.symbolic.expression.Expression'>\n",
      "a + 2*ab\n"
     ]
    }
   ],
   "source": [
    "var(\"a b ab\")\n",
    "print( type(ab))\n",
    "print(a + b + ab - b + ab)\n"
   ]
  },
  {
   "cell_type": "markdown",
   "metadata": {},
   "source": [
    "Il ne faut pas confondre une variable symbolique et une variable au sens de la programmation Python qui, elle, n'est pas un objet (et n'a donc aucun type) :\n",
    "\n"
   ]
  },
  {
   "cell_type": "code",
   "execution_count": 48,
   "metadata": {},
   "outputs": [
    {
     "name": "stdout",
     "output_type": "stream",
     "text": [
      "a + b\n",
      "<class 'sage.symbolic.expression.Expression'>\n",
      "42\n",
      "<class 'sage.rings.integer.Integer'>\n"
     ]
    }
   ],
   "source": [
    "var(\"a b\")\n",
    "\n",
    "c = (a+b)*1\n",
    "print( c)\n",
    "print(type(c))\n",
    "\n",
    "c= 42\n",
    "print(c)\n",
    "print(type(c))\n",
    "\n"
   ]
  },
  {
   "cell_type": "markdown",
   "metadata": {},
   "source": [
    "`c` n'est pas une variable symbolique, c'est juste un identificateur et qui permet de référencer des objets de types quelconques (ci-dessus, une expression symbolique et un entier).\n",
    "\n",
    "Par conséquent, on évitera d'affecter une valeur sur x car on perdra son caractère formel.\n",
    "\n",
    "Comme en Python, utiliser une variable non définie entraîne une erreur :\n",
    "\n"
   ]
  },
  {
   "cell_type": "code",
   "execution_count": 49,
   "metadata": {},
   "outputs": [
    {
     "name": "stdout",
     "output_type": "stream",
     "text": [
      "-26\n"
     ]
    }
   ],
   "source": [
    "print(2*(z+5)-3*(z-2))\n",
    "\n"
   ]
  },
  {
   "cell_type": "markdown",
   "metadata": {},
   "source": [
    "Une expression formelle est de type expression symbolique\n",
    "\n"
   ]
  },
  {
   "cell_type": "code",
   "execution_count": 50,
   "metadata": {},
   "outputs": [
    {
     "name": "stdout",
     "output_type": "stream",
     "text": [
      "<class 'sage.symbolic.expression.Expression'>\n",
      "<class 'sage.symbolic.expression.Expression'>\n"
     ]
    }
   ],
   "source": [
    "V = 2*(x+5)-3*(x-2)\n",
    "print(type(V))\n",
    "print(type(x))\n",
    "\n"
   ]
  },
  {
   "cell_type": "markdown",
   "metadata": {},
   "source": [
    "Une expression symbolique peut utiliser toute une variété de fonctions ou d'expressions :\n",
    "\n"
   ]
  },
  {
   "cell_type": "code",
   "execution_count": null,
   "metadata": {},
   "outputs": [],
   "source": [
    "V = abs(3*x+1) - sign(2*x+7/x)\n",
    "print(V)\n",
    "print(type(V))\n",
    "\n"
   ]
  },
  {
   "cell_type": "markdown",
   "metadata": {},
   "source": [
    "# Quelques noms courts prédéfinis\n",
    "\n",
    "On fera attention que les noms suivants sont prédéfinis dans Sage : e, E, I, n, N, pi, R, O, x\n",
    "\n",
    "et donc évitera de les choisir comme nom de variable.\n",
    "\n",
    "\n",
    "\n",
    "# Perte de la variable symbolique par défaut\n",
    "\n",
    "Comme `x` est un nom courant de variable (symbolique ou pas), on peut assez facilement écraser accidentellement la variable symbolique `x` :\n",
    "\n"
   ]
  },
  {
   "cell_type": "code",
   "execution_count": null,
   "metadata": {},
   "outputs": [],
   "source": [
    "A = x + x + 3*x\n",
    "print(A)\n",
    "\n",
    "x=e^pi -pi^e\n",
    "\n",
    "print(x)\n",
    "print(A)\n",
    "\n"
   ]
  },
  {
   "cell_type": "markdown",
   "metadata": {},
   "source": [
    "Après écrasement, la variable  `x` existe mais représente une constante formelle  mais ne représente plus la variable symbolique `x`. Par exemple, si on cherche à résoudre une équation d'inconnue `x`, le comportement risque d'être aberrant. Par exemple, si vous effectuez un restart de la feuille de travail alors le code suivant fonctionne :\n",
    "\n"
   ]
  },
  {
   "cell_type": "code",
   "execution_count": null,
   "metadata": {},
   "outputs": [],
   "source": [
    "print(solve(2*x-1==0,x))\n"
   ]
  },
  {
   "cell_type": "markdown",
   "metadata": {},
   "source": [
    "mais le code suivant provoque une erreur :\n",
    "\n"
   ]
  },
  {
   "cell_type": "code",
   "execution_count": null,
   "metadata": {},
   "outputs": [],
   "source": [
    "x=42\n",
    "\n",
    "# Génère une erreur car x n'est plus \n",
    "# une variable symbolique\n",
    "print(solve(2*x-1==0,x))\n"
   ]
  },
  {
   "cell_type": "markdown",
   "metadata": {},
   "source": [
    "Pour rétablir la variable symbolique `x`, il suffit d'utiliser la fonction `var` (faire un restart d'abord):\n",
    "\n"
   ]
  },
  {
   "cell_type": "code",
   "execution_count": null,
   "metadata": {},
   "outputs": [],
   "source": [
    "print(solve(2*x-1==0,x))\n",
    "x=42\n",
    "\n",
    "# rétablit x comme variable formelle\n",
    "var(\"x\")\n",
    "\n",
    "# Fonctionne normalement\n",
    "print(solve(2*x-1==0,x))\n"
   ]
  },
  {
   "cell_type": "markdown",
   "metadata": {},
   "source": [
    "# Egalité ou inégalité formelles\n",
    "\n",
    "On peut définir des expression formelles qui sont des égalités ou des inégalités :\n",
    "\n"
   ]
  },
  {
   "cell_type": "code",
   "execution_count": null,
   "metadata": {},
   "outputs": [],
   "source": [
    "expr = (x + x^2 == 42 * x)\n",
    "print(expr)\n",
    "\n",
    "ineg = (x + x^2 < 42 * x)\n",
    "print(ineg)\n"
   ]
  },
  {
   "cell_type": "markdown",
   "metadata": {},
   "source": [
    "On a accès aux membres de droite et de gauche de ce type d'expressions via les méthodes :\n",
    "\n",
    "- `lhs` pour *Right Hand Side*, à savoir le membre gauche de l'expression\n",
    "\n",
    "- `rhs` pour *Right Hand Side*, à savoir le membre droit de l'expression\n",
    "\n",
    "Par exemple\n",
    "\n"
   ]
  },
  {
   "cell_type": "code",
   "execution_count": null,
   "metadata": {},
   "outputs": [],
   "source": [
    "expr = (x + x^2 == x^2 - x)\n",
    "\n",
    "print(expr.lhs())\n",
    "print(expr.lhs() - expr.rhs())\n"
   ]
  },
  {
   "cell_type": "markdown",
   "metadata": {},
   "source": [
    "# Sémantique particulière des opérateurs `==` et `<`\n",
    "\n",
    "Comme Sagemath est aussi un logiciel de calcul formel, le symbole `==` ou les symboles d'inégalité tels que `<` sont des opérateurs du calcul formel (ils apparaissent dans des expressions symboliques) et n'entraînent pas forcément une évaluation. Par exemple\n",
    "\n"
   ]
  },
  {
   "cell_type": "code",
   "execution_count": null,
   "metadata": {},
   "outputs": [],
   "source": [
    "z= pi^e < e^pi\n",
    "print(type(z))\n",
    "print(z)\n",
    "print(RR(pi^e), RR(e^pi))\n",
    "\n"
   ]
  },
  {
   "cell_type": "markdown",
   "metadata": {},
   "source": [
    "On voit que `z` est une expression symbolique bien qu'elle utilise les constantes numériques classique `e` et `pi`. Utiliser `z` n'entraîne pas d'évaluation en `True` ou `False` alors que la dernière ligne montre que numériquement $\\pi^e < e^\\pi$. Pour forcer l'évaluation booléenne, il suffit d'utiliser l'opérateur `bool` :\n",
    "\n"
   ]
  },
  {
   "cell_type": "code",
   "execution_count": null,
   "metadata": {},
   "outputs": [],
   "source": [
    "z= pi^e < e^pi\n",
    "print(bool(z))\n",
    "\n"
   ]
  },
  {
   "cell_type": "markdown",
   "metadata": {},
   "source": [
    "# Factoriser, développer\n",
    "\n",
    "Pour factoriser une expression formelle, on utilise la méthode `factor`, pour développer, ce sera la méthode `expand` :\n",
    "\n"
   ]
  },
  {
   "cell_type": "code",
   "execution_count": null,
   "metadata": {},
   "outputs": [],
   "source": [
    "P(x)=x^8-1\n",
    "print(P.factor())\n",
    "\n"
   ]
  },
  {
   "cell_type": "markdown",
   "metadata": {},
   "source": [
    "ou encore\n",
    "\n"
   ]
  },
  {
   "cell_type": "code",
   "execution_count": null,
   "metadata": {},
   "outputs": [],
   "source": [
    "P(x)=(8*x^7-4*x^3+x^2+x +8)*(12*x^9-4*x^8+6*x^4+7*x -10)\n",
    "Q(x)=P(x).expand()\n",
    "print(Q(x))\n",
    "print()\n",
    "print(Q(x).factor())\n",
    "\n"
   ]
  },
  {
   "cell_type": "markdown",
   "metadata": {},
   "source": [
    "# Quelques fonctions de simplification\n",
    "\n",
    "Sage possède des fonctions de simplification symbolique. On essaiera dans l'ordre les fonctions suivantes :\n",
    "\n",
    "- `factor` (qui souvent *simplifie*)\n",
    "\n",
    "- `simplify`\n",
    "\n",
    "- `full_simplify`\n",
    "\n",
    "- `canonicalize_radical`\n",
    "\n",
    "et éventuellement des combinaisons des précédentes.\n",
    "\n",
    "Voici des exemples :\n",
    "\n"
   ]
  },
  {
   "cell_type": "code",
   "execution_count": null,
   "metadata": {},
   "outputs": [],
   "source": [
    "V=1/4*x^4 + 1/2*x^3 - 1/4*(x^2 + x)^2 + 1/4*x^2\n",
    "V.simplify_full()\n",
    "\n"
   ]
  },
  {
   "cell_type": "code",
   "execution_count": null,
   "metadata": {},
   "outputs": [],
   "source": [
    "V=sin(x)**2+cos(x)**2\n",
    "V.simplify_full()\n",
    "\n"
   ]
  },
  {
   "cell_type": "code",
   "execution_count": null,
   "metadata": {},
   "outputs": [],
   "source": [
    "F=(x^2-1)/(x-1)\n",
    "print(F.simplify())\n",
    "print(F.simplify_full())\n",
    "\n"
   ]
  },
  {
   "cell_type": "markdown",
   "metadata": {},
   "source": [
    "Il existe aussi des fonctions spécialisées dans certains types de simplifications telles que  :\n",
    "\n",
    "- `exp_simplify`\n",
    "\n",
    "- `log_simplify`\n",
    "\n",
    "- `radical_simplify`\n",
    "\n",
    "- `trig_simplify`\n",
    "\n",
    "# Substitution dans une expression formelle\n",
    "\n",
    "Pour substituer dans une expression formelle, on utilise la méthode `subs`\n",
    "\n"
   ]
  },
  {
   "cell_type": "code",
   "execution_count": null,
   "metadata": {},
   "outputs": [],
   "source": [
    "var(\"a b c\")\n",
    "expr = a^2+b^2+c^2\n",
    "print(expr.subs(a=b, b=2, c=1))\n"
   ]
  },
  {
   "cell_type": "markdown",
   "metadata": {},
   "source": [
    "# Sommes formelles\n",
    "\n",
    "Sage est capable de calculer certaines sommes formelles avec sa fonction `sum` :\n",
    "\n"
   ]
  },
  {
   "cell_type": "code",
   "execution_count": null,
   "metadata": {},
   "outputs": [],
   "source": [
    "var(\"k n\")\n",
    "print(sum(2*k-1, k, 1,n))\n",
    "\n"
   ]
  },
  {
   "cell_type": "markdown",
   "metadata": {},
   "source": [
    "La signification des arguments est :\n",
    "\n",
    "- Le premier argument est l'expression à sommer,\n",
    "\n",
    "- le deuxième est l'indice de sommation,\n",
    "\n",
    "- le 3e est le premier indice\n",
    "\n",
    "- le 4e est le dernier indice dans la somme.\n",
    "\n",
    "Les variables utilisées sont formelles et doivent avoir été déclarées.\n",
    "\n",
    "# Exercices\n",
    "\n",
    "##  Sommes des $n$ premiers cubes\n",
    "\n",
    "Il est connu que la somme des $n$ premiers cubes est le carré de la somme des $n$ premiers entiers. Par exemple, si $n=5$ alors $1^3+2^3+3^3+4^3+5^3=225$ et $(1+2+3+4+5)^2=15^2=225$. Ainsi, on a l'identité\n",
    "\n",
    " $$(\\star):\\quad \\quad\\sum_{k=1}^n k^3=\\left(\\sum_{k=1}^n k\\right)^2 $$\n",
    "\n",
    "1) Ecrire une fonction `verif(n)` qui cette égalité pour l'entier naturel `n`. Tester cette fonction pour $n \\in \\ens{42, 81, 2017}$.\n",
    "\n",
    "2) Vérifier formellement l'identité $(\\star)$ ci-dessus (on utilisera une fonction de simplification).\n",
    "\n",
    "Solution\n",
    "\n"
   ]
  },
  {
   "cell_type": "code",
   "execution_count": null,
   "metadata": {},
   "outputs": [],
   "source": []
  },
  {
   "cell_type": "markdown",
   "metadata": {},
   "source": [
    "# Sommes comportant des factorielles\n",
    "\n",
    "Simplifier la somme suivante :\n",
    "\n",
    "$$\\sum_{k=1}^{n} k!k $$\n",
    "\n",
    "Solution\n",
    "\n"
   ]
  },
  {
   "cell_type": "code",
   "execution_count": null,
   "metadata": {},
   "outputs": [],
   "source": [
    "\n",
    "\n"
   ]
  },
  {
   "cell_type": "markdown",
   "metadata": {},
   "source": [
    "# Calcul de sommes télescopiques\n",
    "\n",
    "$\\begin{align} A &=  \\sum_{n=1}^{N}\\left(\\frac{1}{2n}-\\frac{1}{n+1}+\\frac{1}{2(n+2)}\\right)\\\\ B &=   \\sum_{k=1}^{N}\\left(\\frac{5}{3k}-\\frac{2}{k+1}+\\frac{1}{3(k+3)}\\right) \\end{align}$\n",
    "\n"
   ]
  },
  {
   "cell_type": "code",
   "execution_count": null,
   "metadata": {},
   "outputs": [],
   "source": []
  },
  {
   "cell_type": "code",
   "execution_count": null,
   "metadata": {},
   "outputs": [],
   "source": [
    "\n"
   ]
  },
  {
   "cell_type": "markdown",
   "metadata": {},
   "source": [
    "# Identité $\\sum_{k=0}^n {k \\choose n}^2 = {2n \\choose n}$\n",
    "\n",
    "Vérifier l'identité suivante pour tous les entiers de 0 à 10 :\n",
    "\n",
    "$$\\sum_{k=0}^n {k \\choose n}^2 = {2n \\choose n}$$\n",
    "\n",
    "*Tenter* d'établir formellement l'identité ci-dessus.\n",
    "\n"
   ]
  },
  {
   "cell_type": "code",
   "execution_count": null,
   "metadata": {},
   "outputs": [],
   "source": [
    "\n"
   ]
  },
  {
   "cell_type": "markdown",
   "metadata": {},
   "source": [
    "# Sommes imbriquées\n",
    "\n",
    "Simplifier la somme suivante :\n",
    "\n",
    "$$\\sum_{i=1}^{n-1} \\sum_{k=i+1}^{n} k-i $$\n",
    "\n",
    "Solution\n",
    "\n"
   ]
  },
  {
   "cell_type": "code",
   "execution_count": null,
   "metadata": {},
   "outputs": [],
   "source": []
  },
  {
   "cell_type": "markdown",
   "metadata": {},
   "source": [
    "# Exemples de factorisations d'expressions\n",
    "\n",
    "Factoriser les expressions suivantes :\n",
    "$$\\begin{array}{l}x^3-8\\\\ a^4-b^4\\\\ x^5-1\\end{array}$$"
   ]
  },
  {
   "cell_type": "code",
   "execution_count": null,
   "metadata": {},
   "outputs": [],
   "source": []
  },
  {
   "cell_type": "markdown",
   "metadata": {},
   "source": [
    "# exo : Exemples de développements\n",
    "\n",
    "Développer $$ A=(1+x)^3\\quad B=(1-x)^5\\quad C=(a+2)^4$$\n",
    "\n"
   ]
  },
  {
   "cell_type": "code",
   "execution_count": null,
   "metadata": {},
   "outputs": [],
   "source": []
  },
  {
   "cell_type": "markdown",
   "metadata": {},
   "source": [
    "# Résolution formelle d'une équation\n",
    "\n",
    "Sagemath est capable de résoudre formellement (ie de manière exacte) certaines équations, y compris des équations non linéaires. Pour cela on utilise la fonction `solve` :\n",
    "\n"
   ]
  },
  {
   "cell_type": "code",
   "execution_count": null,
   "metadata": {},
   "outputs": [],
   "source": [
    "L=solve(3*x^3 - x^2 - 6*x == -2, x)\n",
    "print(L)\n",
    "\n"
   ]
  },
  {
   "cell_type": "markdown",
   "metadata": {},
   "source": [
    "- `solve` doit faire apparaître l'équation en premier argument et en deuxième argument le nom de l'inconnue.\n",
    "\n",
    "- Noter que pour traduire l'égalité dans l'équation, on utilise le symbole `==` et non pas `=` (ce qui renverrait une erreur).\n",
    "\n",
    "- `solve` renvoie une liste de solutions. En réalité, `solve` renvoie une liste de solutions sous la forme d'expressions formelles dont le membre de gauche est le nom de l'inconnue et le membre de droite l'expression formelle de la solution.\n",
    "\n",
    "On peut a priori toujours choisir `x` comme lettre pour désigner l'inconnue car c'est la variable symbolique par défaut. Si on veut choisir une autre lettre comme inconnue, il faut la déclarer comme variable au préalable :\n",
    "\n"
   ]
  },
  {
   "cell_type": "code",
   "execution_count": null,
   "metadata": {},
   "outputs": [],
   "source": [
    "var(\"t\")\n",
    "\n",
    "L=solve(t^2-1, t)\n",
    "print(L)\n",
    "\n"
   ]
  },
  {
   "cell_type": "markdown",
   "metadata": {},
   "source": [
    "De nombreuses équations ne sont pas résolubles formellement. Lorsque Sage est incapable de résoudre formellement l'équation, il renvoie l'équation comme seul élément d'une liste :\n",
    "\n"
   ]
  },
  {
   "cell_type": "code",
   "execution_count": null,
   "metadata": {},
   "outputs": [],
   "source": [
    "L=solve(exp(x)==cos(x), x)\n",
    "print(L)\n",
    "\n"
   ]
  },
  {
   "cell_type": "markdown",
   "metadata": {},
   "source": [
    "Lorsque le second membre d'une équation est 0, on peut omettre le symbole `==` :\n",
    "\n"
   ]
  },
  {
   "cell_type": "code",
   "execution_count": null,
   "metadata": {},
   "outputs": [],
   "source": [
    "L=solve(x^2-1, x)\n",
    "print(L)\n",
    "\n"
   ]
  },
  {
   "cell_type": "markdown",
   "metadata": {},
   "source": [
    "Une équation peut admettre plusieurs solutions sans que Sage les donne toutes :\n",
    "\n"
   ]
  },
  {
   "cell_type": "code",
   "execution_count": null,
   "metadata": {},
   "outputs": [],
   "source": [
    "L=solve(cos(x), x)\n",
    "print(L)\n",
    "\n"
   ]
  },
  {
   "cell_type": "markdown",
   "metadata": {},
   "source": [
    "Une équation peut être résolue même si elle est donnée avec des paramètres :\n",
    "\n"
   ]
  },
  {
   "cell_type": "code",
   "execution_count": null,
   "metadata": {},
   "outputs": [],
   "source": [
    "var(\"a b c\")\n",
    "eq = a*x**2+b*x+c\n",
    "L=solve(eq==0,x)\n",
    "\n",
    "L"
   ]
  },
  {
   "cell_type": "markdown",
   "metadata": {},
   "source": [
    "# Résolution formelle d'un système d'équations\n",
    "\n",
    "La fonction `solve` est capable de résoudre formellement (de manière exacte) certains *systèmes* d'équations :\n",
    "\n"
   ]
  },
  {
   "cell_type": "code",
   "execution_count": null,
   "metadata": {},
   "outputs": [],
   "source": [
    "var(\"a b\")\n",
    "equations=[2*a^2-b==-1, b-a^2==2]\n",
    "s=solve(equations, b, a)\n",
    "print(s)\n",
    "\n"
   ]
  },
  {
   "cell_type": "markdown",
   "metadata": {},
   "source": [
    "- Il faut déclarer les variables symboliques qui sont utilisées comme nom d'inconnues (à moins qu'elles n'aient déjà été déclarées comme telles auparavant dans le programme).\n",
    "\n",
    "- Les équations données à `solve` le sont sous forme de liste d'égalités formelles.\n",
    "\n",
    "- Les inconnues apparaissent comme arguments après la liste d'équations\n",
    "\n",
    "- L'ensemble des solutions est une liste `L` ; chaque élément de `L` est lui-même une liste dont les éléments sont des expressions formelles dont le second membre est la valeur de la solution.\n",
    "\n",
    "Chaque solution figurant dans `L` donne les valeurs des inconnues dans l'ordre où elles sont déclarées en arguments dans l'appel de `solve`.\n",
    "\n",
    "Si Sage voit que le système n'admet aucune solution, la liste renvoyée par `solve` est vide :\n",
    "\n"
   ]
  },
  {
   "cell_type": "code",
   "execution_count": null,
   "metadata": {},
   "outputs": [],
   "source": [
    "var (\"a b\")\n",
    "equations=[a+b==1, 2*a+2*b==1]\n",
    "s=solve(equations, a, b)\n",
    "print(s)\n",
    "\n"
   ]
  },
  {
   "cell_type": "markdown",
   "metadata": {},
   "source": [
    "Sage aura plus de facilité à résoudre un système linéaire.\n",
    "\n",
    "Lorsque Sage est incapable de résoudre formellement le système, il renvoie les équations comme seul élément d'une liste :\n",
    "\n"
   ]
  },
  {
   "cell_type": "code",
   "execution_count": null,
   "metadata": {},
   "outputs": [],
   "source": [
    "var (\"a b\")\n",
    "equations=[sin(a)+exp(b)==1, sin(2*a)+exp(2*b)==1]\n",
    "s=solve(equations, a, b)\n",
    "print(s)\n",
    "\n"
   ]
  },
  {
   "cell_type": "markdown",
   "metadata": {},
   "source": [
    "L'accès aux solutions d'un système d'équation suit le même principe que l'accès aux solutions d'une équation unique résolue avec la fonction `solve`.\n",
    "\n",
    "# Résolution de différents systèmes linéaires\n",
    "\n",
    "Résoudre les système linéaires suivants :\n",
    "\n",
    "$$\\begin{cases} x+y-z& =1\\\\ 2x-y+z& =2\\\\ 3x+2y-3z&=3 \\end{cases} $$\n",
    "\n",
    "$$\\begin{cases} y-3z& =-1\\\\  x+z& =-2\\\\  2x-2y+5z&=-5 \\end{cases} $$\n",
    "\n",
    "$$\\begin{cases} x1+2x2-x3+x4& =6\\\\ 2x1+x3-2x4& =-3\\\\ x1-x2-x3+4x4&=3\\\\  -x1+3x2+2x3-2x4&=2 \\end{cases} $$\n",
    "\n",
    "$$\\begin{cases} z+t&=1\\\\ z+y&=2\\\\ x+y&=3 \\end{cases} $$\n",
    "\n"
   ]
  },
  {
   "cell_type": "code",
   "execution_count": null,
   "metadata": {},
   "outputs": [],
   "source": [
    "\n"
   ]
  },
  {
   "cell_type": "markdown",
   "metadata": {},
   "source": [
    "# Système 3x3 avec un paramètre (exercice résolu)\n",
    "\n",
    "Résoudre et discuter des solutions en fonction du paramètre réel $m$ le système linéaire : $$(S):\\quad \\begin{cases} mx+y+z&=&m\\\\ x+y+mz&=&m\\\\  x+my+z&=&m\\end{cases} $$\n",
    "\n",
    "On définit une fonction formelle `eqns(m)` qui renvoie nos équations sous forme de liste. Puis on lance la résolution avec `solve`:\n",
    "\n"
   ]
  },
  {
   "cell_type": "code",
   "execution_count": null,
   "metadata": {},
   "outputs": [],
   "source": [
    "var(\"x y z m\")\n",
    "eqns(m)=[m*x+1*y+1*z==m,1*x+1*y+m*z==m,1*x+m*y+1*z==m]\n",
    "print(solve(list(eqns(m)), x, y, z))\n",
    "\n"
   ]
  },
  {
   "cell_type": "markdown",
   "metadata": {},
   "source": [
    "Noter qu'il faut transformer `eqns(m)` en liste avec `list` sinon une exception est levée :\n",
    "\n"
   ]
  },
  {
   "cell_type": "code",
   "execution_count": null,
   "metadata": {},
   "outputs": [],
   "source": [
    "var(\"x y z m\")\n",
    "eqns(m)=[m*x+1*y+1*z==m,1*x+1*y+m*z==m,1*x+m*y+1*z==m]\n",
    "print(solve(eqns(m), x, y, z))\n"
   ]
  },
  {
   "cell_type": "markdown",
   "metadata": {},
   "source": [
    "On oberve alors que `m=-2` est un cas singulier (il annule un dénominateur) :\n",
    "\n"
   ]
  },
  {
   "cell_type": "code",
   "execution_count": null,
   "metadata": {},
   "outputs": [],
   "source": [
    "print(solve(list(eqns(-2)), x, y, z))\n",
    "\n"
   ]
  },
  {
   "cell_type": "markdown",
   "metadata": {},
   "source": [
    "On particularise nos équations au cas `m=-2` :\n",
    "\n"
   ]
  },
  {
   "cell_type": "code",
   "execution_count": null,
   "metadata": {},
   "outputs": [],
   "source": [
    "var(\"x y z m\")\n",
    "eqns(m)=[m*x+1*y+1*z==m,1*x+1*y+m*z==m,1*x+m*y+1*z==m]\n",
    "eq=eqns(-2)\n",
    "eq\n",
    "\n"
   ]
  },
  {
   "cell_type": "markdown",
   "metadata": {},
   "source": [
    "puis on résout le système formé des deux premières équations :\n",
    "\n"
   ]
  },
  {
   "cell_type": "code",
   "execution_count": null,
   "metadata": {},
   "outputs": [],
   "source": [
    "\n",
    "s=solve(list([eq[0], eq[1]]), x, y)\n",
    "print(s)\n",
    "\n"
   ]
  },
  {
   "cell_type": "markdown",
   "metadata": {},
   "source": [
    "Mettons en évidence les solutions trouvées :\n",
    "\n"
   ]
  },
  {
   "cell_type": "code",
   "execution_count": null,
   "metadata": {},
   "outputs": [],
   "source": [
    "xy=[egal.rhs() for egal in s[0]]\n",
    "print(xy)\n",
    "\n"
   ]
  },
  {
   "cell_type": "markdown",
   "metadata": {},
   "source": [
    "nommons la 3e équation :\n",
    "\n"
   ]
  },
  {
   "cell_type": "code",
   "execution_count": null,
   "metadata": {},
   "outputs": [],
   "source": [
    "eq3=eq[2]\n",
    "\n"
   ]
  },
  {
   "cell_type": "code",
   "execution_count": null,
   "metadata": {},
   "outputs": [],
   "source": [
    "eq3\n",
    "\n"
   ]
  },
  {
   "cell_type": "markdown",
   "metadata": {},
   "source": [
    "et remplaçons dans le membre de gauche de la 3e équation\n",
    "\n"
   ]
  },
  {
   "cell_type": "code",
   "execution_count": null,
   "metadata": {},
   "outputs": [],
   "source": [
    "eq3.lhs().subs(x=xy[0], y=xy[1])\n",
    "\n"
   ]
  },
  {
   "cell_type": "markdown",
   "metadata": {},
   "source": [
    "On constate que le résultat est différent de `-2` donc le système n'admet pas de solution.\n",
    "\n",
    "# Parabole passant par trois points\n",
    "\n",
    "1) Trouver l'équation de la parabole passant par les points $A=(-2,3)$, $B=(-5, 60)$ et $C=(3,28)$.\n",
    "\n",
    "2) Tracer cette parabole et placer les 3 points (utiliser la fonction `point`) en essayant de minimiser les copier-coller de résultats.\n",
    "\n",
    "Solution\n",
    "\n"
   ]
  },
  {
   "cell_type": "code",
   "execution_count": null,
   "metadata": {},
   "outputs": [],
   "source": []
  },
  {
   "cell_type": "markdown",
   "metadata": {},
   "source": [
    "# Système 2x2 avec un paramètre\n",
    "\n",
    "Résoudre le système linéaire suivant et discuter des solutions en fonction du paramètre réel $m$  : $$(S):\\quad \\begin{cases} mx+y&=&1\\\\ x+my&=&1  \\end{cases} $$\n",
    "\n"
   ]
  },
  {
   "cell_type": "code",
   "execution_count": null,
   "metadata": {},
   "outputs": [],
   "source": []
  },
  {
   "cell_type": "markdown",
   "metadata": {},
   "source": [
    "# Intersection de plans\n",
    "\n",
    "On donne trois plans d'équations :\n",
    "\n",
    "$$x+y+z=1, 2x-y+z=4, 3x+2z=a$$\n",
    "\n",
    "(l'équation du dernier plan dépend d'un paramètre $a$).\n",
    "\n",
    "Discuter en fonction de $a$ de l'intersection de ces trois plans."
   ]
  },
  {
   "cell_type": "code",
   "execution_count": null,
   "metadata": {},
   "outputs": [],
   "source": []
  },
  {
   "cell_type": "markdown",
   "metadata": {},
   "source": [
    "# Solutions paramétrées d'un système d'équations\n",
    "\n",
    "Lorsque Sage est capable de voir qu'un système admet une famille de solution, il paramètre les solutions avec des paramètres formels de la forme `r1`, `r2`, etc :\n",
    "\n"
   ]
  },
  {
   "cell_type": "code",
   "execution_count": null,
   "metadata": {},
   "outputs": [],
   "source": [
    "var (\"a b c\")\n",
    "equations=[a+b+c==1, 2*a+2*b+2*c==2]\n",
    "s=solve(equations, a, b, c)\n",
    "print(s)\n",
    "\n"
   ]
  },
  {
   "cell_type": "markdown",
   "metadata": {},
   "source": [
    "- Le système admet une seule solution « générique» et cette solution dépend de deux paramètres `r1` et `r2`.\n",
    "\n",
    "Si le système précédent est ré-exécuté (ou ré-écrit et ré-exécuté), les indices des noms des paramètres vont augmenter :\n",
    "\n"
   ]
  },
  {
   "cell_type": "code",
   "execution_count": null,
   "metadata": {},
   "outputs": [],
   "source": [
    "var (\"a b c\")\n",
    "equations=[a+b+c==1, 2*a+2*b+2*c==2]\n",
    "s=solve(equations, a, b, c)\n",
    "print(s)\n",
    "\n",
    "print \"------------------\\n\"\n",
    "s=solve(equations, a, b, c)\n",
    "print(s)\n",
    "\n"
   ]
  },
  {
   "cell_type": "markdown",
   "metadata": {},
   "source": [
    "Toutefois, ces paramètres ne sont pas connus du programme en tant que variables symboliques :\n",
    "\n"
   ]
  },
  {
   "cell_type": "code",
   "execution_count": null,
   "metadata": {},
   "outputs": [],
   "source": [
    "var (\"a b c\")\n",
    "equations=[a+b+c==1, 2*a+2*b+2*c==2]\n",
    "s=solve(equations, a, b, c)\n",
    "print(s)\n",
    "print(r1)\n",
    "\n"
   ]
  },
  {
   "cell_type": "code",
   "execution_count": null,
   "metadata": {},
   "outputs": [],
   "source": [
    "var (\"a b c\")\n",
    "equations=[a+b+c==1, 2*a+2*b+2*c==2]\n",
    "s=solve(equations, a, b, c)\n",
    "print(s)\n",
    "print(r1)\n",
    "\n"
   ]
  },
  {
   "cell_type": "markdown",
   "metadata": {},
   "source": [
    "Pour pouvoir instancier des solutions d'un système ayant des solutions paramétrées, il faut accéder aux solutions du système par des commandes d'action sur des expressions symboliques. Toutefois, ce n'est pas si simple et le contrôle semble incomplet :\n",
    "\n"
   ]
  },
  {
   "cell_type": "code",
   "execution_count": null,
   "metadata": {},
   "outputs": [],
   "source": [
    "var (\"a b c\")\n",
    "equations=[a+b+c==1, 2*a+2*b+2*c==2]\n",
    "s=solve(equations, a, b, c)\n",
    "print(s)\n",
    "\n",
    "# on récupère les solutions\n",
    "# du système\n",
    "\n",
    "f=s[0][0].rhs()\n",
    "g=s[0][1].rhs()\n",
    "h=s[0][2].rhs()\n",
    "\n",
    "# on détermine les paramètres des solutions \n",
    "args = f.args()\n",
    "print(args)\n",
    "\n",
    "# On donne des valeurs aux paramètres\n",
    "# et on récupère les solutions\n",
    "\n",
    "aa,bb,cc=f.subs(args[0]==42, args[1]==10),g.subs(args[0]==42, args[1]==10), h.subs(args[0]==42, args[1]==10)\n",
    "\n",
    "# on vérifie que ce sont bien\n",
    "# des solutions du système\n",
    "\n",
    "print( bool(equations[0].lhs().subs(a==aa, b==bb, c==cc)== equations[0].rhs()))\n",
    "print(bool(equations[1].lhs().subs(a==aa, b==bb, c==cc)== equations[1].rhs()))\n",
    "\n"
   ]
  },
  {
   "cell_type": "code",
   "execution_count": null,
   "metadata": {},
   "outputs": [],
   "source": []
  }
 ],
 "metadata": {
  "kernelspec": {
   "display_name": "SageMath 9.2",
   "language": "sage",
   "name": "sagemath"
  },
  "language_info": {
   "codemirror_mode": {
    "name": "ipython",
    "version": 3
   },
   "file_extension": ".py",
   "mimetype": "text/x-python",
   "name": "python",
   "nbconvert_exporter": "python",
   "pygments_lexer": "ipython3",
   "version": "3.7.7"
  }
 },
 "nbformat": 4,
 "nbformat_minor": 1
}
